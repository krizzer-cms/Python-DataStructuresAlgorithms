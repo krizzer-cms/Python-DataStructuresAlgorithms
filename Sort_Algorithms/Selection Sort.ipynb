{
 "cells": [
  {
   "cell_type": "code",
   "execution_count": 10,
   "id": "fcea235a",
   "metadata": {},
   "outputs": [],
   "source": [
    "def selection_sort(arr):\n",
    "    \n",
    "    # For every slot in array\n",
    "    for fillslot in range(len(arr)-1,0,-1):\n",
    "        print(f'fillslot = {fillslot}')\n",
    "        positionOfMax=0\n",
    "        \n",
    "        # For every set of 0 to fillslot+1\n",
    "        for location in range(1,fillslot+1):\n",
    "            print(f\"location is {location}\")\n",
    "            # Set maximum's location\n",
    "            if arr[location]>arr[positionOfMax]:\n",
    "                positionOfMax = location\n",
    "                print(f\"position of max is {positionOfMax}\")\n",
    "\n",
    "        temp = arr[fillslot]\n",
    "        arr[fillslot] = arr[positionOfMax]\n",
    "        arr[positionOfMax] = temp\n",
    "        print(f\"array is {arr}\")"
   ]
  },
  {
   "cell_type": "code",
   "execution_count": 11,
   "id": "a2d57d2a",
   "metadata": {},
   "outputs": [
    {
     "name": "stdout",
     "output_type": "stream",
     "text": [
      "fillslot = 3\n",
      "location is 1\n",
      "location is 2\n",
      "position of max is 2\n",
      "location is 3\n",
      "array is [5, 3, 1, 10]\n",
      "fillslot = 2\n",
      "location is 1\n",
      "location is 2\n",
      "array is [1, 3, 5, 10]\n",
      "fillslot = 1\n",
      "location is 1\n",
      "position of max is 1\n",
      "array is [1, 3, 5, 10]\n"
     ]
    },
    {
     "data": {
      "text/plain": [
       "[1, 3, 5, 10]"
      ]
     },
     "execution_count": 11,
     "metadata": {},
     "output_type": "execute_result"
    }
   ],
   "source": [
    "arr = [5,3,10,1]\n",
    "selection_sort(arr)\n",
    "arr"
   ]
  }
 ],
 "metadata": {
  "kernelspec": {
   "display_name": "Python 3",
   "language": "python",
   "name": "python3"
  },
  "language_info": {
   "codemirror_mode": {
    "name": "ipython",
    "version": 3
   },
   "file_extension": ".py",
   "mimetype": "text/x-python",
   "name": "python",
   "nbconvert_exporter": "python",
   "pygments_lexer": "ipython3",
   "version": "3.8.8"
  }
 },
 "nbformat": 4,
 "nbformat_minor": 5
}
