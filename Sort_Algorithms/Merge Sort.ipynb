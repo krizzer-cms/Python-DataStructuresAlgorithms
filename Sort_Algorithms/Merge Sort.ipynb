{
 "cells": [
  {
   "cell_type": "markdown",
   "id": "b5ab912d",
   "metadata": {},
   "source": [
    "Implementation of Merge Sort\n",
    "Merge sort is a recursive algorithm that continually splits a list in half. If the list is empty or has one item, it is sorted by definition (the base case). If the list has more than one item, we split the list and recursively invoke a merge sort on both halves. Once the two halves are sorted, the fundamental operation, called a merge, is performed. Merging is the process of taking two smaller sorted lists and combining them together into a single, sorted, new list."
   ]
  },
  {
   "cell_type": "code",
   "execution_count": 12,
   "id": "83d4511f",
   "metadata": {},
   "outputs": [],
   "source": [
    "def merge_sort(arr):\n",
    "    \n",
    "    if len(arr)>1:\n",
    "        mid = len(arr)//2\n",
    "        lefthalf = arr[:mid]\n",
    "        righthalf = arr[mid:]\n",
    "        print(f'right half is {righthalf} \\n left half is {lefthalf}')\n",
    "\n",
    "        merge_sort(lefthalf)\n",
    "        print('finished lefthalf')\n",
    "        merge_sort(righthalf)\n",
    "        print('finished righthalf')\n",
    "\n",
    "        i=0\n",
    "        j=0\n",
    "        k=0\n",
    "        print('entering merge')\n",
    "        while i < len(lefthalf) and j < len(righthalf):\n",
    "            if lefthalf[i] < righthalf[j]:\n",
    "                arr[k]=lefthalf[i]\n",
    "                i=i+1\n",
    "            else:\n",
    "                arr[k]=righthalf[j]\n",
    "                j=j+1\n",
    "            k=k+1\n",
    "            print('Finished 1st while loop')\n",
    "\n",
    "        while i < len(lefthalf):\n",
    "            arr[k]=lefthalf[i]\n",
    "            i=i+1\n",
    "            k=k+1\n",
    "            print('Finished 2nd while loop')\n",
    "\n",
    "        while j < len(righthalf):\n",
    "            arr[k]=righthalf[j]\n",
    "            j=j+1\n",
    "            k=k+1\n",
    "            print('Finished 3rd while loop')\n",
    "    print(f'The array is {arr}')"
   ]
  },
  {
   "cell_type": "code",
   "execution_count": 13,
   "id": "e893d6a0",
   "metadata": {},
   "outputs": [
    {
     "name": "stdout",
     "output_type": "stream",
     "text": [
      "right half is [2, 1] \n",
      " left half is [4, 3]\n",
      "right half is [3] \n",
      " left half is [4]\n",
      "The array is [4]\n",
      "finished lefthalf\n",
      "The array is [3]\n",
      "finished righthalf\n",
      "entering merge\n",
      "Finished 1st while loop\n",
      "Finished 2nd while loop\n",
      "The array is [3, 4]\n",
      "finished lefthalf\n",
      "right half is [1] \n",
      " left half is [2]\n",
      "The array is [2]\n",
      "finished lefthalf\n",
      "The array is [1]\n",
      "finished righthalf\n",
      "entering merge\n",
      "Finished 1st while loop\n",
      "Finished 2nd while loop\n",
      "The array is [1, 2]\n",
      "finished righthalf\n",
      "entering merge\n",
      "Finished 1st while loop\n",
      "Finished 1st while loop\n",
      "Finished 2nd while loop\n",
      "Finished 2nd while loop\n",
      "The array is [1, 2, 3, 4]\n"
     ]
    },
    {
     "data": {
      "text/plain": [
       "[1, 2, 3, 4]"
      ]
     },
     "execution_count": 13,
     "metadata": {},
     "output_type": "execute_result"
    }
   ],
   "source": [
    "arr = [4,3,2,1]\n",
    "merge_sort(arr)\n",
    "arr"
   ]
  },
  {
   "cell_type": "code",
   "execution_count": null,
   "id": "41d29733",
   "metadata": {},
   "outputs": [],
   "source": []
  }
 ],
 "metadata": {
  "kernelspec": {
   "display_name": "Python 3",
   "language": "python",
   "name": "python3"
  },
  "language_info": {
   "codemirror_mode": {
    "name": "ipython",
    "version": 3
   },
   "file_extension": ".py",
   "mimetype": "text/x-python",
   "name": "python",
   "nbconvert_exporter": "python",
   "pygments_lexer": "ipython3",
   "version": "3.8.8"
  }
 },
 "nbformat": 4,
 "nbformat_minor": 5
}
