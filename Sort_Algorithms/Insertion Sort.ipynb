{
 "cells": [
  {
   "cell_type": "code",
   "execution_count": 6,
   "id": "ae56765a",
   "metadata": {},
   "outputs": [],
   "source": [
    "def insertion_sort(arr):\n",
    "    \n",
    "    for i in range(1,len(arr)):\n",
    "        \n",
    "        currentvalue = arr[i]\n",
    "        position = i\n",
    "        print(f\"current value is {currentvalue} \\n position is {position}\")\n",
    "        while position > 0 and arr[position-1] > currentvalue:\n",
    "            arr[position] = arr[position-1]\n",
    "            position = position-1\n",
    "            print(f'array is {arr} \\n position is {position} ')\n",
    "        arr[position] = currentvalue\n",
    "        print(f\"array is {arr}\")"
   ]
  },
  {
   "cell_type": "code",
   "execution_count": 7,
   "id": "795aa531",
   "metadata": {},
   "outputs": [
    {
     "name": "stdout",
     "output_type": "stream",
     "text": [
      "current value is 4 \n",
      " position is 1\n",
      "array is [5, 5, 3, 2, 1] \n",
      " position is 0 \n",
      "array is [4, 5, 3, 2, 1]\n",
      "current value is 3 \n",
      " position is 2\n",
      "array is [4, 5, 5, 2, 1] \n",
      " position is 1 \n",
      "array is [4, 4, 5, 2, 1] \n",
      " position is 0 \n",
      "array is [3, 4, 5, 2, 1]\n",
      "current value is 2 \n",
      " position is 3\n",
      "array is [3, 4, 5, 5, 1] \n",
      " position is 2 \n",
      "array is [3, 4, 4, 5, 1] \n",
      " position is 1 \n",
      "array is [3, 3, 4, 5, 1] \n",
      " position is 0 \n",
      "array is [2, 3, 4, 5, 1]\n",
      "current value is 1 \n",
      " position is 4\n",
      "array is [2, 3, 4, 5, 5] \n",
      " position is 3 \n",
      "array is [2, 3, 4, 4, 5] \n",
      " position is 2 \n",
      "array is [2, 3, 3, 4, 5] \n",
      " position is 1 \n",
      "array is [2, 2, 3, 4, 5] \n",
      " position is 0 \n",
      "array is [1, 2, 3, 4, 5]\n"
     ]
    },
    {
     "data": {
      "text/plain": [
       "[1, 2, 3, 4, 5]"
      ]
     },
     "execution_count": 7,
     "metadata": {},
     "output_type": "execute_result"
    }
   ],
   "source": [
    "arr=[5,4,3,2,1]\n",
    "insertion_sort(arr)\n",
    "arr"
   ]
  },
  {
   "cell_type": "code",
   "execution_count": null,
   "id": "ce2d4193",
   "metadata": {},
   "outputs": [],
   "source": []
  }
 ],
 "metadata": {
  "kernelspec": {
   "display_name": "Python 3",
   "language": "python",
   "name": "python3"
  },
  "language_info": {
   "codemirror_mode": {
    "name": "ipython",
    "version": 3
   },
   "file_extension": ".py",
   "mimetype": "text/x-python",
   "name": "python",
   "nbconvert_exporter": "python",
   "pygments_lexer": "ipython3",
   "version": "3.8.8"
  }
 },
 "nbformat": 4,
 "nbformat_minor": 5
}
