{
 "cells": [
  {
   "cell_type": "markdown",
   "id": "3379106d",
   "metadata": {},
   "source": [
    "Trim a Binary Search Tree - SOLUTION\n",
    "Problem Statement\n",
    "Given the root of a binary search tree and 2 numbers min and max, trim the tree such that all the numbers in the new tree are between min and max (inclusive). The resulting tree should still be a valid binary search tree. So, if we get this tree as input:\n",
    "\n",
    "title\n",
    "\n",
    "and we’re given min value as 5 and max value as 13, then the resulting binary search tree should be:\n",
    "\n",
    "title\n",
    "\n",
    "We should remove all the nodes whose value is not between min and max."
   ]
  },
  {
   "cell_type": "code",
   "execution_count": 9,
   "id": "266d8f58",
   "metadata": {},
   "outputs": [],
   "source": [
    "class Node:\n",
    "    def __init__(self, val=None):\n",
    "        self.left = None\n",
    "        self.right = None\n",
    "        self.val =  val "
   ]
  },
  {
   "cell_type": "code",
   "execution_count": 26,
   "id": "35da1349",
   "metadata": {},
   "outputs": [],
   "source": [
    "root = Node(4)\n",
    "root.left = Node(3)\n",
    "root.right = Node(5)\n",
    "root.left.left = Node(2)\n",
    "root.right.left = Node(4.5)\n",
    "root.right.right = Node(6)"
   ]
  },
  {
   "cell_type": "code",
   "execution_count": 31,
   "id": "d9ff6225",
   "metadata": {},
   "outputs": [],
   "source": [
    "def trimBST(tree, minVal, maxVal): \n",
    "    \n",
    "    if not tree: \n",
    "        return \n",
    "    \n",
    "    tree.left=trimBST(tree.left, minVal, maxVal) \n",
    "    tree.right=trimBST(tree.right, minVal, maxVal) \n",
    "    \n",
    "    print(f\"tree.left {tree.left}\")\n",
    "    print(f\"tree.right {tree.right}\")\n",
    "\n",
    "\n",
    "    if minVal<=tree.val<=maxVal:\n",
    "        print(\"in between\")\n",
    "        return tree \n",
    "    \n",
    "    if tree.val<minVal: \n",
    "        print(\"less than\")\n",
    "        return tree.right \n",
    "    \n",
    "    if tree.val>maxVal: \n",
    "        print(\"greater than\")\n",
    "        return tree.left "
   ]
  },
  {
   "cell_type": "code",
   "execution_count": 33,
   "id": "1481314d",
   "metadata": {},
   "outputs": [
    {
     "name": "stdout",
     "output_type": "stream",
     "text": [
      "tree.left None\n",
      "tree.right None\n",
      "less than\n",
      "tree.left None\n",
      "tree.right None\n",
      "in between\n",
      "tree.left None\n",
      "tree.right None\n",
      "greater than\n",
      "tree.left None\n",
      "tree.right None\n",
      "greater than\n",
      "tree.left <__main__.Node object at 0x7fd9a6072190>\n",
      "tree.right None\n",
      "in between\n"
     ]
    },
    {
     "data": {
      "text/plain": [
       "<__main__.Node at 0x7fd9a6072fa0>"
      ]
     },
     "execution_count": 33,
     "metadata": {},
     "output_type": "execute_result"
    }
   ],
   "source": [
    "trimBST(root,3,4)"
   ]
  },
  {
   "cell_type": "code",
   "execution_count": null,
   "id": "9475822e",
   "metadata": {},
   "outputs": [],
   "source": []
  }
 ],
 "metadata": {
  "kernelspec": {
   "display_name": "Python 3",
   "language": "python",
   "name": "python3"
  },
  "language_info": {
   "codemirror_mode": {
    "name": "ipython",
    "version": 3
   },
   "file_extension": ".py",
   "mimetype": "text/x-python",
   "name": "python",
   "nbconvert_exporter": "python",
   "pygments_lexer": "ipython3",
   "version": "3.8.8"
  }
 },
 "nbformat": 4,
 "nbformat_minor": 5
}
