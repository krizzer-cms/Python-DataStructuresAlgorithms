{
 "cells": [
  {
   "cell_type": "code",
   "execution_count": 1,
   "id": "5193cab2",
   "metadata": {},
   "outputs": [],
   "source": [
    "def BinaryTree(r):\n",
    "    return [r, [], []]\n",
    "\n",
    "def insertLeft(root,newBranch):\n",
    "    t = root.pop(1)\n",
    "    if len(t) > 1:\n",
    "        root.insert(1,[newBranch,t,[]])\n",
    "    else:\n",
    "        root.insert(1,[newBranch, [], []])\n",
    "    return root\n",
    "\n",
    "def insertRight(root,newBranch):\n",
    "    t = root.pop(2)\n",
    "    if len(t) > 1:\n",
    "        root.insert(2,[newBranch,[],t])\n",
    "    else:\n",
    "        root.insert(2,[newBranch,[],[]])\n",
    "    return root\n",
    "\n",
    "def getRootVal(root):\n",
    "    return root[0]\n",
    "\n",
    "def setRootVal(root,newVal):\n",
    "    root[0] = newVal\n",
    "\n",
    "def getLeftChild(root):\n",
    "    return root[1]\n",
    "\n",
    "def getRightChild(root):\n",
    "    return root[2]"
   ]
  },
  {
   "cell_type": "code",
   "execution_count": 3,
   "id": "1dc12d28",
   "metadata": {},
   "outputs": [],
   "source": [
    "r = BinaryTree(1)"
   ]
  },
  {
   "cell_type": "code",
   "execution_count": 4,
   "id": "cfe63293",
   "metadata": {},
   "outputs": [
    {
     "data": {
      "text/plain": [
       "[1, [2, [], []], []]"
      ]
     },
     "execution_count": 4,
     "metadata": {},
     "output_type": "execute_result"
    }
   ],
   "source": [
    "insertLeft(r,2)"
   ]
  },
  {
   "cell_type": "code",
   "execution_count": 5,
   "id": "be72ca83",
   "metadata": {},
   "outputs": [
    {
     "data": {
      "text/plain": [
       "[1, [2, [], []], [3, [], []]]"
      ]
     },
     "execution_count": 5,
     "metadata": {},
     "output_type": "execute_result"
    }
   ],
   "source": [
    "insertRight(r,3)"
   ]
  },
  {
   "cell_type": "code",
   "execution_count": 6,
   "id": "b845a651",
   "metadata": {},
   "outputs": [
    {
     "data": {
      "text/plain": [
       "[1, [4, [2, [], []], []], [5, [], [3, [], []]]]"
      ]
     },
     "execution_count": 6,
     "metadata": {},
     "output_type": "execute_result"
    }
   ],
   "source": [
    "insertLeft(r,4)\n",
    "insertRight(r,5)"
   ]
  },
  {
   "cell_type": "code",
   "execution_count": 8,
   "id": "be4b7238",
   "metadata": {},
   "outputs": [],
   "source": [
    "l = getLeftChild(r)"
   ]
  },
  {
   "cell_type": "code",
   "execution_count": 10,
   "id": "1f51828a",
   "metadata": {},
   "outputs": [],
   "source": [
    "setRootVal(l,'yo')"
   ]
  },
  {
   "cell_type": "code",
   "execution_count": 11,
   "id": "d4aed908",
   "metadata": {},
   "outputs": [
    {
     "data": {
      "text/plain": [
       "[1, ['yo', [2, [], []], []], [5, [], [3, [], []]]]"
      ]
     },
     "execution_count": 11,
     "metadata": {},
     "output_type": "execute_result"
    }
   ],
   "source": [
    "r"
   ]
  },
  {
   "cell_type": "code",
   "execution_count": 12,
   "id": "08912dfa",
   "metadata": {},
   "outputs": [],
   "source": [
    "setRootVal(r,'hello')"
   ]
  },
  {
   "cell_type": "code",
   "execution_count": 13,
   "id": "ffa1c6e1",
   "metadata": {},
   "outputs": [
    {
     "data": {
      "text/plain": [
       "['hello', ['yo', [2, [], []], []], [5, [], [3, [], []]]]"
      ]
     },
     "execution_count": 13,
     "metadata": {},
     "output_type": "execute_result"
    }
   ],
   "source": [
    "r"
   ]
  }
 ],
 "metadata": {
  "kernelspec": {
   "display_name": "Python 3",
   "language": "python",
   "name": "python3"
  },
  "language_info": {
   "codemirror_mode": {
    "name": "ipython",
    "version": 3
   },
   "file_extension": ".py",
   "mimetype": "text/x-python",
   "name": "python",
   "nbconvert_exporter": "python",
   "pygments_lexer": "ipython3",
   "version": "3.8.8"
  }
 },
 "nbformat": 4,
 "nbformat_minor": 5
}
