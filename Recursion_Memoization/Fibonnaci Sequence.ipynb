{
 "cells": [
  {
   "cell_type": "markdown",
   "id": "e1213d32",
   "metadata": {},
   "source": [
    "Fibonnaci Sequence\n",
    "In this interview excercise we will begin to get a feel of having to solve a single problem multiple ways!\n",
    "\n",
    "Problem Statement\n",
    "Implement a Fibonnaci Sequence in three different ways:\n",
    "\n",
    "Recursively\n",
    "Dynamically (Using Memoization to store results)\n",
    "Iteratively\n",
    "Function Output\n",
    "Your function will accept a number n and return the nth number of the fibonacci sequence\n",
    "\n",
    "Remember that a fibonacci sequence: 0,1,1,2,3,5,8,13,21,... starts off with a base case checking to see if n = 0 or 1, then it returns 1.\n",
    "\n",
    "Else it returns fib(n-1)+fib(n+2)."
   ]
  },
  {
   "cell_type": "markdown",
   "id": "3d011a2b",
   "metadata": {},
   "source": [
    "# Recursively"
   ]
  },
  {
   "cell_type": "code",
   "execution_count": 1,
   "id": "f5d9d748",
   "metadata": {},
   "outputs": [],
   "source": [
    "def fib_rec(n):\n",
    "    # base check \n",
    "    if n == 0 or n == 1:\n",
    "        return n\n",
    "\n",
    "    else:\n",
    "        return fib_rec(n-1) + fib_rec(n-2)"
   ]
  },
  {
   "cell_type": "code",
   "execution_count": 2,
   "id": "9391b1d7",
   "metadata": {},
   "outputs": [
    {
     "name": "stdout",
     "output_type": "stream",
     "text": [
      "15.8 µs ± 445 ns per loop (mean ± std. dev. of 7 runs, 100000 loops each)\n"
     ]
    }
   ],
   "source": [
    "%%timeit\n",
    "fib_rec(10)"
   ]
  },
  {
   "cell_type": "markdown",
   "id": "6ba5b773",
   "metadata": {},
   "source": [
    "# Dynamically (with Memoization)"
   ]
  },
  {
   "cell_type": "code",
   "execution_count": 3,
   "id": "b03961ae",
   "metadata": {},
   "outputs": [],
   "source": [
    "fb_memo = {}\n",
    "\n",
    "def fib_dyn(n):\n",
    "    \n",
    "    if n == 0 or n == 1: \n",
    "        return n\n",
    "    \n",
    "    if not n in fb_memo:\n",
    "        fb_memo[n] = fib_dyn(n-1) + fib_dyn(n-2)\n",
    "        print(fb_memo)\n",
    "    return fb_memo[n]"
   ]
  },
  {
   "cell_type": "code",
   "execution_count": 4,
   "id": "48f95dd6",
   "metadata": {},
   "outputs": [
    {
     "name": "stdout",
     "output_type": "stream",
     "text": [
      "{2: 1}\n",
      "{2: 1, 3: 2}\n",
      "{2: 1, 3: 2, 4: 3}\n",
      "{2: 1, 3: 2, 4: 3, 5: 5}\n",
      "{2: 1, 3: 2, 4: 3, 5: 5, 6: 8}\n",
      "{2: 1, 3: 2, 4: 3, 5: 5, 6: 8, 7: 13}\n",
      "{2: 1, 3: 2, 4: 3, 5: 5, 6: 8, 7: 13, 8: 21}\n",
      "{2: 1, 3: 2, 4: 3, 5: 5, 6: 8, 7: 13, 8: 21, 9: 34}\n",
      "{2: 1, 3: 2, 4: 3, 5: 5, 6: 8, 7: 13, 8: 21, 9: 34, 10: 55}\n",
      "111 ns ± 4.29 ns per loop (mean ± std. dev. of 7 runs, 10000000 loops each)\n"
     ]
    }
   ],
   "source": [
    "%%timeit\n",
    "fib_dyn(10)"
   ]
  },
  {
   "cell_type": "code",
   "execution_count": 9,
   "id": "6edaad5e",
   "metadata": {},
   "outputs": [],
   "source": [
    "# Instantiate Cache information\n",
    "n = 10\n",
    "cache = [None] * (n + 1)\n",
    "\n",
    "\n",
    "def fib_dyn(n):\n",
    "    \n",
    "    # Base Case\n",
    "    if n == 0 or n == 1:\n",
    "        return n\n",
    "    \n",
    "    # Check cache\n",
    "    if cache[n] != None:\n",
    "        return cache[n]\n",
    "    \n",
    "    # Keep setting cache\n",
    "    cache[n] = fib_dyn(n-1) + fib_dyn(n-2)\n",
    "    print(cache)\n",
    "    \n",
    "    return cache[n]"
   ]
  },
  {
   "cell_type": "code",
   "execution_count": 11,
   "id": "dd4dd1f0",
   "metadata": {},
   "outputs": [
    {
     "name": "stdout",
     "output_type": "stream",
     "text": [
      "131 ns ± 1.97 ns per loop (mean ± std. dev. of 7 runs, 10000000 loops each)\n"
     ]
    }
   ],
   "source": [
    "%%timeit\n",
    "fib_dyn(10)"
   ]
  },
  {
   "cell_type": "code",
   "execution_count": 10,
   "id": "103361f5",
   "metadata": {},
   "outputs": [
    {
     "name": "stdout",
     "output_type": "stream",
     "text": [
      "[None, None, 1, None, None, None, None, None, None, None, None]\n",
      "[None, None, 1, 2, None, None, None, None, None, None, None]\n",
      "[None, None, 1, 2, 3, None, None, None, None, None, None]\n",
      "[None, None, 1, 2, 3, 5, None, None, None, None, None]\n",
      "[None, None, 1, 2, 3, 5, 8, None, None, None, None]\n",
      "[None, None, 1, 2, 3, 5, 8, 13, None, None, None]\n",
      "[None, None, 1, 2, 3, 5, 8, 13, 21, None, None]\n",
      "[None, None, 1, 2, 3, 5, 8, 13, 21, 34, None]\n",
      "[None, None, 1, 2, 3, 5, 8, 13, 21, 34, 55]\n",
      "134 ns ± 7.61 ns per loop (mean ± std. dev. of 7 runs, 10000000 loops each)\n"
     ]
    }
   ],
   "source": [
    "%%timeit\n",
    "fib_dyn(10)"
   ]
  },
  {
   "cell_type": "markdown",
   "id": "74d4144b",
   "metadata": {},
   "source": [
    "# Iteratively "
   ]
  },
  {
   "cell_type": "code",
   "execution_count": 7,
   "id": "a3fbf4c9",
   "metadata": {},
   "outputs": [],
   "source": [
    "def fib_iter(n):\n",
    "    \n",
    "    # Set starting point\n",
    "    a = 0\n",
    "    b = 1\n",
    "    \n",
    "    # Follow algorithm\n",
    "    for i in range(n):\n",
    "        \n",
    "        a, b = b, a + b\n",
    "\n",
    "    return a"
   ]
  },
  {
   "cell_type": "code",
   "execution_count": 8,
   "id": "ee7fddcd",
   "metadata": {},
   "outputs": [
    {
     "name": "stdout",
     "output_type": "stream",
     "text": [
      "497 ns ± 0.956 ns per loop (mean ± std. dev. of 7 runs, 1000000 loops each)\n"
     ]
    }
   ],
   "source": [
    "%%timeit\n",
    "fib_iter(10)"
   ]
  }
 ],
 "metadata": {
  "kernelspec": {
   "display_name": "Python 3",
   "language": "python",
   "name": "python3"
  },
  "language_info": {
   "codemirror_mode": {
    "name": "ipython",
    "version": 3
   },
   "file_extension": ".py",
   "mimetype": "text/x-python",
   "name": "python",
   "nbconvert_exporter": "python",
   "pygments_lexer": "ipython3",
   "version": "3.8.8"
  }
 },
 "nbformat": 4,
 "nbformat_minor": 5
}
